{
 "cells": [
  {
   "cell_type": "markdown",
   "id": "03f103e2-fbc0-4d01-b91c-05cbcc42c660",
   "metadata": {},
   "source": [
    "*My Jupyter Notebook on IBM Watson Studio.\n",
    "\n"
   ]
  },
  {
   "cell_type": "markdown",
   "id": "5d96f456-0600-48d1-a015-ad08fbeee030",
   "metadata": {},
   "source": [
    "_MounirMahmoud_\n",
    "\n",
    "Data scientist"
   ]
  },
  {
   "cell_type": "markdown",
   "id": "e066f601-e249-4da4-b005-9069ea26ef92",
   "metadata": {},
   "source": [
    "I am interested in data science because I am always curious about hidden details.\n"
   ]
  },
  {
   "cell_type": "markdown",
   "id": "3cb37f46-009a-4827-90aa-61a158542715",
   "metadata": {},
   "source": [
    "My code is adding two numbers."
   ]
  },
  {
   "cell_type": "code",
   "execution_count": 4,
   "id": "ee060f89-f047-49b4-b980-e42e57bffa8e",
   "metadata": {},
   "outputs": [
    {
     "data": {
      "text/plain": [
       "1.5"
      ]
     },
     "execution_count": 4,
     "metadata": {},
     "output_type": "execute_result"
    }
   ],
   "source": [
    "1+1/2"
   ]
  },
  {
   "cell_type": "markdown",
   "id": "c6693a6b-696a-4aba-8334-516de16242d2",
   "metadata": {},
   "source": [
    "* one\n",
    "* two \n",
    "* three\n",
    "* one \n",
    "* two\n",
    "* three"
   ]
  },
  {
   "cell_type": "code",
   "execution_count": null,
   "id": "2e47bed7-f9a9-4fc5-b1b7-dbd6d8d64806",
   "metadata": {},
   "outputs": [],
   "source": []
  }
 ],
 "metadata": {
  "kernelspec": {
   "display_name": "Python",
   "language": "python",
   "name": "conda-env-python-py"
  },
  "language_info": {
   "codemirror_mode": {
    "name": "ipython",
    "version": 3
   },
   "file_extension": ".py",
   "mimetype": "text/x-python",
   "name": "python",
   "nbconvert_exporter": "python",
   "pygments_lexer": "ipython3",
   "version": "3.7.12"
  }
 },
 "nbformat": 4,
 "nbformat_minor": 5
}
